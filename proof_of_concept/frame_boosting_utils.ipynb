{
 "cells": [
  {
   "cell_type": "code",
   "execution_count": 2,
   "id": "65572971",
   "metadata": {},
   "outputs": [],
   "source": [
    "import visualkeras"
   ]
  },
  {
   "cell_type": "code",
   "execution_count": 3,
   "id": "4fc33162",
   "metadata": {},
   "outputs": [],
   "source": [
    "from tensorflow.keras.applications.vgg16 import VGG16"
   ]
  },
  {
   "cell_type": "code",
   "execution_count": 4,
   "id": "c9e5e7b6",
   "metadata": {},
   "outputs": [],
   "source": [
    "m = VGG16()"
   ]
  },
  {
   "cell_type": "code",
   "execution_count": 5,
   "id": "1d58ad39",
   "metadata": {},
   "outputs": [],
   "source": [
    "visualkeras.layered_view(m).show()"
   ]
  },
  {
   "cell_type": "code",
   "execution_count": null,
   "id": "0179a172",
   "metadata": {},
   "outputs": [],
   "source": []
  }
 ],
 "metadata": {
  "kernelspec": {
   "display_name": "Python 3.9.15_2 (tensorflow)",
   "language": "python",
   "name": "tensorflow"
  },
  "language_info": {
   "codemirror_mode": {
    "name": "ipython",
    "version": 3
   },
   "file_extension": ".py",
   "mimetype": "text/x-python",
   "name": "python",
   "nbconvert_exporter": "python",
   "pygments_lexer": "ipython3",
   "version": "3.9.15"
  }
 },
 "nbformat": 4,
 "nbformat_minor": 5
}
